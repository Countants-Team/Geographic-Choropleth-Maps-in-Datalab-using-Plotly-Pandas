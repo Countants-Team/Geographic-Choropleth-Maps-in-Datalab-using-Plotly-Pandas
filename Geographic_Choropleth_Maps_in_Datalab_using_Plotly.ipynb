{
 "cells": [
  {
   "cell_type": "code",
   "execution_count": 1,
   "metadata": {
    "collapsed": true,
    "deletable": true,
    "editable": true
   },
   "outputs": [],
   "source": [
    "import google.datalab.bigquery as bq"
   ]
  },
  {
   "cell_type": "code",
   "execution_count": 5,
   "metadata": {
    "collapsed": true,
    "deletable": true,
    "editable": true
   },
   "outputs": [],
   "source": [
    "%%bq query -n conversions\n",
    "with\n",
    "visits as\n",
    "\n",
    "  (SELECT\n",
    "      \n",
    "       geoNetwork.region,\n",
    "       device.deviceCategory as device,\n",
    "       device.deviceCategory,\n",
    "       sum(totals.visits) as sessions,\n",
    "       sum(totals.totalTransactionRevenue) as revenue,\n",
    "       sum(totals.transactions) as transactions\n",
    "\n",
    "FROM\n",
    "   `bigquery-public-data.google_analytics_sample.ga_sessions_*`\n",
    "where  _TABLE_SUFFIX between '20170701' and '20170801' \n",
    "         and totals.visits is not null and\n",
    "         geoNetwork.region not in ('not available in demo dataset')\n",
    "group by 1,2,3)\n",
    "\n",
    "select \n",
    "region,\n",
    "(sum(transactions)/sum(sessions))*100 as conversion_rate\n",
    "\n",
    "FROM visits \n",
    "GROUP BY region\n",
    "\n",
    "having conversion_rate > 0\n",
    "order by conversion_rate desc"
   ]
  },
  {
   "cell_type": "code",
   "execution_count": 6,
   "metadata": {
    "collapsed": false,
    "deletable": true,
    "editable": true
   },
   "outputs": [
    {
     "data": {
      "text/html": [
       "\n",
       "    <div class=\"bqtv\" id=\"2_152835125510\"><table><tr><th>region</th><th>conversion_rate</th></tr><tr><td>Wisconsin</td><td>14.2857142857</td></tr><tr><td>New Jersey</td><td>14.2857142857</td></tr><tr><td>Michigan</td><td>10.6918238994</td></tr><tr><td>Minnesota</td><td>10.5263157895</td></tr><tr><td>Georgia</td><td>9.24657534247</td></tr><tr><td>Massachusetts</td><td>9.22190201729</td></tr><tr><td>Oregon</td><td>8.64197530864</td></tr><tr><td>Illinois</td><td>8.5597826087</td></tr><tr><td>Colorado</td><td>8.33333333333</td></tr><tr><td>Washington</td><td>7.77502067825</td></tr><tr><td>Pennsylvania</td><td>7.5</td></tr><tr><td>California</td><td>7.49140893471</td></tr><tr><td>New York</td><td>7.30844793713</td></tr><tr><td>Missouri</td><td>7.14285714286</td></tr><tr><td>District of Columbia</td><td>6.87830687831</td></tr><tr><td>Nevada</td><td>6.3829787234</td></tr><tr><td>Texas</td><td>6.15976900866</td></tr><tr><td>Arizona</td><td>2.85714285714</td></tr><tr><td>Ontario</td><td>2.5706940874</td></tr><tr><td>Tennessee</td><td>2.43902439024</td></tr><tr><td>North Carolina</td><td>1.26582278481</td></tr><tr><td>Virginia</td><td>1.25</td></tr><tr><td>British Columbia</td><td>0.990099009901</td></tr><tr><td>Quebec</td><td>0.847457627119</td></tr><tr><td>Berlin</td><td>0.680272108844</td></tr></table></div>\n",
       "    <br />(rows: 40, time: 2.9s,     3MB processed, job: job_-iL237p84Tt-PBBtIPLb0CAECzw3)<br />\n",
       "    <script src=\"/static/components/requirejs/require.js\"></script>\n",
       "    <script>\n",
       "      require.config({\n",
       "        paths: {\n",
       "          base: '/static/base',\n",
       "          d3: '//cdnjs.cloudflare.com/ajax/libs/d3/3.4.13/d3',\n",
       "          plotly: 'https://cdn.plot.ly/plotly-1.5.1.min.js?noext',\n",
       "          jquery: '//ajax.googleapis.com/ajax/libs/jquery/2.0.0/jquery.min'\n",
       "        },\n",
       "        map: {\n",
       "          '*': {\n",
       "            datalab: 'nbextensions/gcpdatalab'\n",
       "          }\n",
       "        },\n",
       "        shim: {\n",
       "          plotly: {\n",
       "            deps: ['d3', 'jquery'],\n",
       "            exports: 'plotly'\n",
       "          }\n",
       "        }\n",
       "      });\n",
       "\n",
       "      require(['datalab/charting', 'datalab/element!2_152835125510', 'base/js/events',\n",
       "          'datalab/style!/nbextensions/gcpdatalab/charting.css'],\n",
       "        function(charts, dom, events) {\n",
       "          charts.render('gcharts', dom, events, 'paged_table', [], {\"rows\": [{\"c\": [{\"v\": \"Wisconsin\"}, {\"v\": 14.285714285714285}]}, {\"c\": [{\"v\": \"New Jersey\"}, {\"v\": 14.285714285714285}]}, {\"c\": [{\"v\": \"Michigan\"}, {\"v\": 10.69182389937107}]}, {\"c\": [{\"v\": \"Minnesota\"}, {\"v\": 10.526315789473683}]}, {\"c\": [{\"v\": \"Georgia\"}, {\"v\": 9.246575342465754}]}, {\"c\": [{\"v\": \"Massachusetts\"}, {\"v\": 9.221902017291066}]}, {\"c\": [{\"v\": \"Oregon\"}, {\"v\": 8.641975308641975}]}, {\"c\": [{\"v\": \"Illinois\"}, {\"v\": 8.559782608695652}]}, {\"c\": [{\"v\": \"Colorado\"}, {\"v\": 8.333333333333332}]}, {\"c\": [{\"v\": \"Washington\"}, {\"v\": 7.775020678246484}]}, {\"c\": [{\"v\": \"Pennsylvania\"}, {\"v\": 7.5}]}, {\"c\": [{\"v\": \"California\"}, {\"v\": 7.491408934707904}]}, {\"c\": [{\"v\": \"New York\"}, {\"v\": 7.30844793713163}]}, {\"c\": [{\"v\": \"Missouri\"}, {\"v\": 7.142857142857142}]}, {\"c\": [{\"v\": \"District of Columbia\"}, {\"v\": 6.878306878306878}]}, {\"c\": [{\"v\": \"Nevada\"}, {\"v\": 6.382978723404255}]}, {\"c\": [{\"v\": \"Texas\"}, {\"v\": 6.159769008662176}]}, {\"c\": [{\"v\": \"Arizona\"}, {\"v\": 2.857142857142857}]}, {\"c\": [{\"v\": \"Ontario\"}, {\"v\": 2.570694087403599}]}, {\"c\": [{\"v\": \"Tennessee\"}, {\"v\": 2.4390243902439024}]}, {\"c\": [{\"v\": \"North Carolina\"}, {\"v\": 1.2658227848101267}]}, {\"c\": [{\"v\": \"Virginia\"}, {\"v\": 1.25}]}, {\"c\": [{\"v\": \"British Columbia\"}, {\"v\": 0.9900990099009901}]}, {\"c\": [{\"v\": \"Quebec\"}, {\"v\": 0.847457627118644}]}, {\"c\": [{\"v\": \"Berlin\"}, {\"v\": 0.6802721088435374}]}], \"cols\": [{\"type\": \"string\", \"id\": \"region\", \"label\": \"region\"}, {\"type\": \"number\", \"id\": \"conversion_rate\", \"label\": \"conversion_rate\"}]},\n",
       "            {\n",
       "              pageSize: 25,\n",
       "              cssClassNames:  {\n",
       "                tableRow: 'gchart-table-row',\n",
       "                headerRow: 'gchart-table-headerrow',\n",
       "                oddTableRow: 'gchart-table-oddrow',\n",
       "                selectedTableRow: 'gchart-table-selectedrow',\n",
       "                hoverTableRow: 'gchart-table-hoverrow',\n",
       "                tableCell: 'gchart-table-cell',\n",
       "                headerCell: 'gchart-table-headercell',\n",
       "                rowNumberCell: 'gchart-table-rownumcell'\n",
       "              }\n",
       "            },\n",
       "            {source_index: 1, fields: 'region,conversion_rate'},\n",
       "            0,\n",
       "            40);\n",
       "        }\n",
       "      );\n",
       "    </script>\n",
       "  "
      ],
      "text/plain": [
       "QueryResultsTable job_-iL237p84Tt-PBBtIPLb0CAECzw3"
      ]
     },
     "execution_count": 6,
     "metadata": {},
     "output_type": "execute_result"
    }
   ],
   "source": [
    "%%bq execute -q conversions"
   ]
  },
  {
   "cell_type": "code",
   "execution_count": 8,
   "metadata": {
    "collapsed": false,
    "deletable": true,
    "editable": true
   },
   "outputs": [
    {
     "data": {
      "text/html": [
       "<script>requirejs.config({paths: { 'plotly': ['https://cdn.plot.ly/plotly-latest.min']},});if(!window.Plotly) {{require(['plotly'],function(plotly) {window.Plotly=plotly;});}}</script>"
      ],
      "text/plain": [
       "<IPython.core.display.HTML object>"
      ]
     },
     "metadata": {},
     "output_type": "display_data"
    }
   ],
   "source": [
    "import pandas as pd\n",
    "import plotly.graph_objs as go\n",
    "from plotly.offline import init_notebook_mode,iplot\n",
    "init_notebook_mode(connected= True)"
   ]
  },
  {
   "cell_type": "code",
   "execution_count": 9,
   "metadata": {
    "collapsed": false,
    "deletable": true,
    "editable": true
   },
   "outputs": [],
   "source": [
    "df = conversions.execute(output_options=bq.QueryOutput.dataframe()).result()"
   ]
  },
  {
   "cell_type": "code",
   "execution_count": 10,
   "metadata": {
    "collapsed": false,
    "deletable": true,
    "editable": true
   },
   "outputs": [],
   "source": [
    "data = dict(type= 'choropleth',\n",
    "            locations = ['AL','AK','AZ','AR','CA','CO','CT','DE','FL','GA','HI','ID','IL','IN','IA','KS','KY','LA','ME','MD','MA','MI','MS','MN',\n",
    "                        'MO','MT','NE','NV','NH','NJ','NM','NY','NC','ND','OH','OK','OR','PA','RI','SC'],\n",
    "            locationmode = 'USA-states',\n",
    "            colorscale = 'viridis',\n",
    "            reversescale = False,\n",
    "            z= df['conversion_rate'],\n",
    "            text = df['region'],\n",
    "            colorbar = {'title':'conversion_rate'}\n",
    "           )"
   ]
  },
  {
   "cell_type": "code",
   "execution_count": 11,
   "metadata": {
    "collapsed": false,
    "deletable": true,
    "editable": true
   },
   "outputs": [],
   "source": [
    "layout = dict(title ='conversion 2018',geo = dict(scope='usa',projection=dict( type='albers usa' ),showlakes = True,\n",
    "            lakecolor = 'rgb(255, 255, 255)'))"
   ]
  },
  {
   "cell_type": "code",
   "execution_count": 12,
   "metadata": {
    "collapsed": false,
    "deletable": true,
    "editable": true
   },
   "outputs": [
    {
     "data": {
      "text/html": [
       "<div id=\"44eb6676-f89e-4c54-84d9-29c5b4fbc2f2\" style=\"height: 525px; width: 100%;\" class=\"plotly-graph-div\"></div><script type=\"text/javascript\">require([\"plotly\"], function(Plotly) { window.PLOTLYENV=window.PLOTLYENV || {};window.PLOTLYENV.BASE_URL=\"https://plot.ly\";Plotly.newPlot(\"44eb6676-f89e-4c54-84d9-29c5b4fbc2f2\", [{\"reversescale\": false, \"colorscale\": \"viridis\", \"text\": [\"New Jersey\", \"Wisconsin\", \"Michigan\", \"Minnesota\", \"Georgia\", \"Massachusetts\", \"Oregon\", \"Illinois\", \"Colorado\", \"Washington\", \"Pennsylvania\", \"California\", \"New York\", \"Missouri\", \"District of Columbia\", \"Nevada\", \"Texas\", \"Arizona\", \"Ontario\", \"Tennessee\", \"North Carolina\", \"Virginia\", \"British Columbia\", \"Quebec\", \"Berlin\", \"Lombardy\", \"Masovian Voivodeship\", \"Catalonia\", \"Federal Territory of Kuala Lumpur\", \"Buenos Aires\", \"Tel Aviv District\", \"County Dublin\", \"Mexico City\", \"State of Sao Paulo\", \"Jakarta\", \"(not set)\", \"Ile-de-France\", \"Delhi\", \"England\", \"Taipei City\"], \"locations\": [\"AL\", \"AK\", \"AZ\", \"AR\", \"CA\", \"CO\", \"CT\", \"DE\", \"FL\", \"GA\", \"HI\", \"ID\", \"IL\", \"IN\", \"IA\", \"KS\", \"KY\", \"LA\", \"ME\", \"MD\", \"MA\", \"MI\", \"MS\", \"MN\", \"MO\", \"MT\", \"NE\", \"NV\", \"NH\", \"NJ\", \"NM\", \"NY\", \"NC\", \"ND\", \"OH\", \"OK\", \"OR\", \"PA\", \"RI\", \"SC\"], \"colorbar\": {\"title\": \"conversion_rate\"}, \"type\": \"choropleth\", \"z\": [14.285714285714285, 14.285714285714285, 10.69182389937107, 10.526315789473683, 9.246575342465754, 9.221902017291066, 8.641975308641975, 8.559782608695652, 8.333333333333332, 7.775020678246484, 7.5, 7.491408934707904, 7.30844793713163, 7.142857142857142, 6.878306878306878, 6.382978723404255, 6.159769008662176, 2.857142857142857, 2.570694087403599, 2.4390243902439024, 1.2658227848101267, 1.25, 0.9900990099009901, 0.847457627118644, 0.6802721088435374, 0.6369426751592357, 0.628930817610063, 0.5747126436781609, 0.5405405405405406, 0.5208333333333333, 0.5128205128205128, 0.41928721174004197, 0.3787878787878788, 0.37453183520599254, 0.36363636363636365, 0.2544529262086514, 0.22522522522522523, 0.199203187250996, 0.15117157974300832, 0.12484394506866417], \"locationmode\": \"USA-states\"}], {\"geo\": {\"showlakes\": true, \"scope\": \"usa\", \"projection\": {\"type\": \"albers usa\"}, \"lakecolor\": \"rgb(255, 255, 255)\"}, \"title\": \"conversion 2018\"}, {\"linkText\": \"Export to plot.ly\", \"showLink\": true})});</script>"
      ],
      "text/plain": [
       "<IPython.core.display.HTML object>"
      ]
     },
     "metadata": {},
     "output_type": "display_data"
    }
   ],
   "source": [
    "choromap = go.Figure(data=[data],layout=layout)\n",
    "iplot(choromap)"
   ]
  }
 ],
 "metadata": {
  "kernelspec": {
   "display_name": "Python 2",
   "language": "python",
   "name": "python2"
  },
  "language_info": {
   "codemirror_mode": {
    "name": "ipython",
    "version": 2
   },
   "file_extension": ".py",
   "mimetype": "text/x-python",
   "name": "python",
   "nbconvert_exporter": "python",
   "pygments_lexer": "ipython2",
   "version": "2.7.15"
  }
 },
 "nbformat": 4,
 "nbformat_minor": 2
}
